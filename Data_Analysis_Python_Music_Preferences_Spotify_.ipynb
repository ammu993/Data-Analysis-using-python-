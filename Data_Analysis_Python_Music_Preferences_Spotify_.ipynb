{
  "nbformat": 4,
  "nbformat_minor": 0,
  "metadata": {
    "colab": {
      "provenance": [],
      "collapsed_sections": [
        "FY5__dPorYBb",
        "WrGsbLjB5nOG",
        "PVN96XsChKsP",
        "LnauzvPCggYw",
        "bL3xNFVltT5x",
        "ps6CqN4R2i8f"
      ],
      "authorship_tag": "ABX9TyPj/Lls4AXX+eyn1cn7smwP",
      "include_colab_link": true
    },
    "kernelspec": {
      "name": "python3",
      "display_name": "Python 3"
    },
    "language_info": {
      "name": "python"
    }
  },
  "cells": [
    {
      "cell_type": "markdown",
      "metadata": {
        "id": "view-in-github",
        "colab_type": "text"
      },
      "source": [
        "<a href=\"https://colab.research.google.com/github/ammu993/Data-Analysis-using-python-/blob/main/Data_Analysis_Python_Music_Preferences_Spotify_.ipynb\" target=\"_parent\"><img src=\"https://colab.research.google.com/assets/colab-badge.svg\" alt=\"Open In Colab\"/></a>"
      ]
    },
    {
      "cell_type": "markdown",
      "source": [
        "\n",
        "# ANALYSIS OF REGIONAL MUSIC PREFERENCES (DEC 2023 - JUN 2024) 🎵 🎹\n"
      ],
      "metadata": {
        "id": "v3sufLX0BxBr"
      }
    },
    {
      "cell_type": "markdown",
      "source": [
        "##PROJECT OVERVIEW\n",
        "\n",
        "This project analyzes the top Spotify songs in 73 countries over a six-month period from December 1, 2023, to June 1, 2024. The aim is to understand the music preferences of Spotify users across different regions: North America, Latin America, Europe, and the Rest of the World. By examining this dataset, we can identify regional daily trends and top artists that define the global music landscape during this period.\n",
        "\n",
        "The dataset used in this analysis is [Top Spotify Songs in 73 Countries (Daily Updated)](https://www.kaggle.com/datasets/asaniczka/top-spotify-songs-in-73-countries-daily-updated/data) provided by user **asaniczka** on Kaggle. This dataset is licensed under the Open Data Commons Attribution License (ODC-By) v1.0.\n",
        "\n",
        "Explanation to the audio features such as  'danceability', 'energy', 'key', 'loudness', 'mode', 'speechiness',\n",
        "'acousticness', 'instrumentalness', 'liveness', 'valence', 'tempo', 'time_signature' can be found in Annex section.\n"
      ],
      "metadata": {
        "id": "UXkzj4dJqmkc"
      }
    },
    {
      "cell_type": "markdown",
      "source": [
        "\n",
        "\n",
        "---\n",
        "\n",
        "\n",
        "## ASK\n",
        "\n",
        "\n",
        "**What were the music preferences across different regions (North America, Latin America, Europe, and the Rest of the World) on Spotify and how did they vary over the period from December 2023 to June 2024?**\n",
        "\n",
        "--*What were the trends in the popularity and daily rankings of the top songs globally?*\n",
        "\n",
        "--*How did the daily rankings of the top songs differ across regions?*\n",
        "\n",
        "--*What regional differences can be observed in the audio characteristics of the most popular songs?*\n",
        "\n",
        "--*Who were the top artists per region, and how often do their songs appear in the top daily ranks?*\n",
        "\n",
        "\n",
        "\n",
        "---"
      ],
      "metadata": {
        "id": "IxqqVnhYHa22"
      }
    },
    {
      "cell_type": "markdown",
      "source": [
        "## DATA PREPARATION"
      ],
      "metadata": {
        "id": "FY5__dPorYBb"
      }
    },
    {
      "cell_type": "code",
      "execution_count": null,
      "metadata": {
        "id": "KozG8OI0AtVH"
      },
      "outputs": [],
      "source": [
        "import pandas as pd\n",
        "import numpy as np\n",
        "import matplotlib.pyplot as plt\n",
        "from matplotlib.colors import LinearSegmentedColormap\n",
        "import matplotlib.ticker as ticker\n",
        "import seaborn as sns"
      ]
    },
    {
      "cell_type": "code",
      "execution_count": null,
      "metadata": {
        "id": "RWSJpsyKqHjH"
      },
      "outputs": [],
      "source": [
        "from google.colab import drive\n",
        "drive.mount('/content/drive')"
      ]
    },
    {
      "cell_type": "code",
      "source": [
        "csv_file_path= \"/content/drive/MyDrive/universal_top_spotify_songs.csv\""
      ],
      "metadata": {
        "id": "pcjICm9GOHqD"
      },
      "execution_count": null,
      "outputs": []
    },
    {
      "cell_type": "code",
      "source": [
        "df= pd.read_csv(csv_file_path)\n",
        "pd.set_option('display.max_columns', None)\n",
        "df.head()"
      ],
      "metadata": {
        "id": "mh-NUcbEBvfp"
      },
      "execution_count": null,
      "outputs": []
    },
    {
      "cell_type": "code",
      "source": [
        "df.shape"
      ],
      "metadata": {
        "id": "OxXx_OOLFa-n"
      },
      "execution_count": null,
      "outputs": []
    },
    {
      "cell_type": "code",
      "source": [
        "df.tail()"
      ],
      "metadata": {
        "id": "TBpO91OPFmfF"
      },
      "execution_count": null,
      "outputs": []
    },
    {
      "cell_type": "code",
      "source": [
        "df.info()"
      ],
      "metadata": {
        "id": "C4KY8HD0F3Ft"
      },
      "execution_count": null,
      "outputs": []
    },
    {
      "cell_type": "code",
      "source": [
        "df.columns"
      ],
      "metadata": {
        "id": "OQ2U7YzzDfFq"
      },
      "execution_count": null,
      "outputs": []
    },
    {
      "cell_type": "markdown",
      "source": [
        "## DATA PROCESSING\n"
      ],
      "metadata": {
        "id": "sxYpZ8SS0CiX"
      }
    },
    {
      "cell_type": "markdown",
      "source": [
        "### Data Cleaning\n"
      ],
      "metadata": {
        "id": "WrGsbLjB5nOG"
      }
    },
    {
      "cell_type": "code",
      "source": [
        "df.isna().sum()"
      ],
      "metadata": {
        "id": "cZGaHnp6GrIn"
      },
      "execution_count": null,
      "outputs": []
    },
    {
      "cell_type": "code",
      "source": [
        "#Replacing null values in the country column\n",
        "df.country=df.country.replace(\"NaN\",np.nan)\n",
        "df.country=df.country.replace(np.nan,\"Global\")"
      ],
      "metadata": {
        "id": "I6WPSEsPOvSv"
      },
      "execution_count": null,
      "outputs": []
    },
    {
      "cell_type": "code",
      "source": [
        "df.isnull().sum()"
      ],
      "metadata": {
        "id": "x3saGdTavPAJ"
      },
      "execution_count": null,
      "outputs": []
    },
    {
      "cell_type": "code",
      "source": [
        "#Viewing part of dataset with album_name is NULL\n",
        "df.loc[df.album_name.isnull()]"
      ],
      "metadata": {
        "id": "kdFHc0WjvsPb"
      },
      "execution_count": null,
      "outputs": []
    },
    {
      "cell_type": "code",
      "source": [
        "df=df.dropna(subset=['album_name','album_release_date'])"
      ],
      "metadata": {
        "id": "-drhpRz1y11h"
      },
      "execution_count": null,
      "outputs": []
    },
    {
      "cell_type": "code",
      "source": [
        "df.info()"
      ],
      "metadata": {
        "id": "AGcBT8ofzOg5"
      },
      "execution_count": null,
      "outputs": []
    },
    {
      "cell_type": "code",
      "source": [
        "df.drop_duplicates()"
      ],
      "metadata": {
        "id": "ixkGq7Eg30UB"
      },
      "execution_count": null,
      "outputs": []
    },
    {
      "cell_type": "code",
      "source": [
        "len(df.country.unique())"
      ],
      "metadata": {
        "id": "8l1ik-2bSEmC"
      },
      "execution_count": null,
      "outputs": []
    },
    {
      "cell_type": "code",
      "source": [
        "#To get list of country ISO codes mentioned in the data set\n",
        "array_countries=df['country'].unique()\n",
        "country_list=array_countries.tolist()\n"
      ],
      "metadata": {
        "id": "wf6t-m46iDxW"
      },
      "execution_count": null,
      "outputs": []
    },
    {
      "cell_type": "code",
      "source": [
        "#Function to allocate regions from country information\n",
        "def country_to_region(data):\n",
        "  #Regions dictionary containing values as the ISO codes of countries\n",
        "  regions_dict={ \"Europe\": [\n",
        "        \"AT\", \"BE\", \"BG\", \"BY\", \"CH\", \"CZ\", \"DE\", \"DK\", \"EE\", \"ES\",\n",
        "        \"FI\", \"FR\", \"GB\", \"GR\", \"HU\", \"IE\", \"IS\", \"IT\", \"LT\", \"LU\",\n",
        "        \"LV\", \"NL\", \"NO\", \"PL\", \"PT\", \"RO\", \"SE\", \"SK\", \"UA\"\n",
        "    ],\n",
        "    \"North America\": [\n",
        "        \"CA\", \"US\"\n",
        "    ],\n",
        "    \"Latin America\": [\n",
        "        \"AR\", \"BO\", \"BR\", \"CL\", \"CO\", \"CR\", \"DO\", \"EC\", \"GT\", \"HN\",\n",
        "        \"MX\", \"NI\", \"PA\", \"PE\", \"PY\", \"SV\", \"UY\", \"VE\"\n",
        "    ],\n",
        "    \"Rest of World\": [\n",
        "        \"AE\", \"AU\", \"EG\", \"HK\", \"ID\", \"IL\", \"IN\", \"JP\", \"KR\", \"KZ\",\n",
        "        \"MA\", \"MY\", \"NG\", \"NZ\", \"PH\", \"PK\", \"SA\", \"SG\", \"TH\", \"TR\",\n",
        "        \"TW\", \"VN\", \"ZA\"\n",
        "    ]}\n",
        "  if data['country'] == 'Global':\n",
        "    return 'Global'\n",
        "  elif data['country'] in regions_dict['Europe']:\n",
        "    return 'Europe'\n",
        "  elif data['country'] in regions_dict['Rest of World']:\n",
        "    return 'Rest of World'\n",
        "  elif data['country'] in regions_dict['Latin America'] :\n",
        "    return 'LATAM'\n",
        "  elif data['country'] in regions_dict['North America'] :\n",
        "    return 'North America'\n",
        "\n",
        "modified_df = df\n",
        "modified_df['regions']= modified_df.apply(country_to_region, axis='columns')# btry with replace\n"
      ],
      "metadata": {
        "id": "g0RgMHi4k2yp"
      },
      "execution_count": null,
      "outputs": []
    },
    {
      "cell_type": "code",
      "source": [
        "#Deleting the spotify id column\n",
        "modified_df=modified_df.drop (columns='spotify_id')"
      ],
      "metadata": {
        "id": "xoOr3b-8s_b8"
      },
      "execution_count": null,
      "outputs": []
    },
    {
      "cell_type": "code",
      "source": [
        "df = modified_df"
      ],
      "metadata": {
        "id": "RV1JzX3y3dNT"
      },
      "execution_count": null,
      "outputs": []
    },
    {
      "cell_type": "code",
      "source": [
        "#Converting the data type of columns with dates\n",
        "df['album_release_date'] = pd.to_datetime(df['album_release_date'], format='%Y-%m-%d')\n",
        "df['snapshot_date'] = pd.to_datetime(df['snapshot_date'], format='%Y-%m-%d')"
      ],
      "metadata": {
        "id": "typj1OBwYbyO"
      },
      "execution_count": null,
      "outputs": []
    },
    {
      "cell_type": "markdown",
      "source": [
        "### EDA"
      ],
      "metadata": {
        "id": "PVN96XsChKsP"
      }
    },
    {
      "cell_type": "code",
      "source": [
        "#Summary statistics for numerical and string data types\n",
        "df.describe(include=[np.number,object])"
      ],
      "metadata": {
        "id": "t5lbAhieFKaV"
      },
      "execution_count": null,
      "outputs": []
    },
    {
      "cell_type": "code",
      "source": [
        "#Summary statistics for numerical and string data types\n",
        "df.describe(include=np.datetime64)"
      ],
      "metadata": {
        "id": "Ms5inRg31E4B"
      },
      "execution_count": null,
      "outputs": []
    },
    {
      "cell_type": "code",
      "source": [
        "#to see correlation between numeric values\n",
        "corr_matrix= df.corr(numeric_only=True)#Spearman's for relaxed assumption"
      ],
      "metadata": {
        "id": "XAQczSVG8BCp"
      },
      "execution_count": null,
      "outputs": []
    },
    {
      "cell_type": "code",
      "source": [
        "custom_palette= ['#26CC50','#7C71BB','#222426']# Hex Color values correspond to green,purple,grey\n",
        "cmap = LinearSegmentedColormap.from_list(\"custom\", custom_palette, N=256)\n",
        "sns.heatmap(corr_matrix,annot=True, cmap=cmap)\n",
        "plt.rcParams['figure.figsize']=(20,20)\n",
        "plt.show()\n",
        "plt.tight_layout()"
      ],
      "metadata": {
        "id": "s7iJ8OV7WD7v"
      },
      "execution_count": null,
      "outputs": []
    },
    {
      "cell_type": "code",
      "source": [
        "sns.scatterplot(y=df['energy'],x=df['loudness'],hue=df['is_explicit'],palette=['#26CC50','#222426'])\n",
        "plt.title('Energy vs Loudness')\n",
        "plt.figure(figsize=(14,8))\n",
        "plt.show()\n",
        "plt.tight_layout()"
      ],
      "metadata": {
        "id": "k2efOK3M-Wtd"
      },
      "execution_count": null,
      "outputs": []
    },
    {
      "cell_type": "code",
      "source": [
        "sns.scatterplot(y=df['energy'],x=df['acousticness'],hue=df['is_explicit'],palette=['#26CC50','#222426'])\n",
        "plt.title('Energy vs Acousticness')\n",
        "plt.figure(figsize=(14,8))\n",
        "plt.show()\n",
        "plt.tight_layout()"
      ],
      "metadata": {
        "id": "jpmcmv7BKaoe"
      },
      "execution_count": null,
      "outputs": []
    },
    {
      "cell_type": "markdown",
      "source": [
        "## ANALYSIS\n",
        "The main aim  of this section is to answer the research question:\n",
        "\n",
        "**What were the music preferences across different regions (North America, Latin America, Europe, and the Rest of the World) on Spotify and how did they vary over the period from December 2023 to June 2024?**\n"
      ],
      "metadata": {
        "id": "THgNxTGolCDW"
      }
    },
    {
      "cell_type": "code",
      "source": [
        "#Filtering for last 6 months of data\n",
        "df_2024 = df[(df['snapshot_date'] >= '2023-12-01') & (df['snapshot_date'] < '2024-06-01')]"
      ],
      "metadata": {
        "id": "FVxybB1_S_ll"
      },
      "execution_count": null,
      "outputs": []
    },
    {
      "cell_type": "markdown",
      "source": [
        "### What are the trends in the popularity and daily rankings of the top songs globally?\n",
        "\n",
        "*   How does the popularity score trend of the top 5 globally ranked songs compare over the six-month period?\n",
        "*   How do the daily ranking trends of these top 5 songs change over time?\n",
        "\n"
      ],
      "metadata": {
        "id": "p6wsUS5-axSK"
      }
    },
    {
      "cell_type": "code",
      "source": [
        "#Filtering the data frame to get top song that always ranked between 1-15 globally\n",
        "top_songs_2024= df_2024.loc[(df_2024.country=='Global') & (df_2024.daily_rank<=15)]\n",
        "top_songs_2024"
      ],
      "metadata": {
        "id": "unUECuwtDdEF"
      },
      "execution_count": null,
      "outputs": []
    },
    {
      "cell_type": "code",
      "source": [
        "#Selecting top 5 globally trending song which had daily ranks between 1-15\n",
        "top5dailyrank = top_songs_2024.name.value_counts().head(5)\n",
        "top5dailyrank=top5dailyrank.reset_index()\n",
        "top5dailyrank"
      ],
      "metadata": {
        "id": "gcoUTND4Uv31"
      },
      "execution_count": null,
      "outputs": []
    },
    {
      "cell_type": "code",
      "source": [
        "songs_array = top5dailyrank['name'].values\n",
        "songs_top5 = songs_array.tolist()\n",
        "print(songs_array.dtype)\n",
        "print(type(songs_top5))\n",
        "# Convert the array to a list\n",
        "# songs_top5 = []\n",
        "# for row in top5dailyrank.index:\n",
        "#   song= top5dailyrank.iloc[row,0]\n",
        "#   songs_top5.append(song)\n",
        "# songs_top5"
      ],
      "metadata": {
        "id": "ZUAMGH8IkOWX"
      },
      "execution_count": null,
      "outputs": []
    },
    {
      "cell_type": "code",
      "source": [
        "#Plotting popularity score and daily rank trend of top 5 songs\n",
        "colors=['#26CC50','#7C71BB' ,'#A8B0BA','#A8B0BA','#A9B0BA']\n",
        "linestyles = ['-', '-', '-', '--', ':']\n",
        "plt.style.use('default')\n",
        "\n",
        "# Figure with two subplots\n",
        "fig, (ax1,ax2) = plt.subplots(figsize=(16, 10),nrows=2, ncols=1, sharex=True)\n",
        "\n",
        "# Plotting each song's popularity score trend\n",
        "for i, song in enumerate(songs_top5):\n",
        "     song_data = top_songs_2024[top_songs_2024['name'] == song]\n",
        "     ax1.plot(song_data['snapshot_date'], song_data['popularity'],color=colors[i],linestyle=linestyles[i], label=song)\n",
        "# Plotting each song's daily ranking trend\n",
        "for i, song in enumerate(songs_top5):\n",
        "    song_data = top_songs_2024[top_songs_2024['name'] == song]\n",
        "    ax2.plot(song_data['snapshot_date'], song_data['daily_rank'],color=colors[i],linestyle=linestyles[i], label=song)\n",
        "\n",
        "#Popularity trend\n",
        "ax1.set_xlabel('Date')\n",
        "ax1.set_ylabel('Popularity Score')\n",
        "ax1.set_title('Popularity Score Trend for Top 5 Songs(Global)')\n",
        "ax1.legend(fontsize='medium',loc='lower right')\n",
        "ax1.grid(axis= 'x',color='grey', linestyle='-', linewidth=0.5, alpha=0.3)\n",
        "#Daily rankings\n",
        "ax2.set_xlabel('Date')\n",
        "ax2.yaxis.set_major_locator(ticker.MaxNLocator(integer=True))\n",
        "ax2.set_ylabel('Daily rankings')\n",
        "ax2.set_title('Daily Global Rankings of Top 5 Songs')\n",
        "ax2.grid(axis= 'x',color='grey', linestyle='-', linewidth=0.5, alpha=0.3)\n",
        "plt.tight_layout()\n"
      ],
      "metadata": {
        "id": "bqEZFFIHYub1"
      },
      "execution_count": null,
      "outputs": []
    },
    {
      "cell_type": "markdown",
      "source": [
        "### How do the daily rankings of the top songs differ across regions?\n",
        "\n",
        "*   What are the daily ranking trends of the top songs in North America, Latin America, Europe, and the Rest of the World?\n",
        "*   Can seasonal/monthly music preferences across the regions be observed?\n",
        "\n"
      ],
      "metadata": {
        "id": "clVGEymEMjmN"
      }
    },
    {
      "cell_type": "code",
      "source": [
        "colors=['#26CC50','#7C71BB' ,'#5E6369','#757B82','#A9B0BA']\n",
        "\n",
        "# Function to create line charts for daily rankings\n",
        "def plot_daily_rankings(region, top_n):\n",
        "    # Filter the data for the given region\n",
        "    regional_data = df_2024[df_2024['regions'] == region]\n",
        "\n",
        "    # Grouping the data by song name and snapshot_date\n",
        "    grouped = regional_data.groupby(['name', 'snapshot_date'])['daily_rank'].min().reset_index()\n",
        "\n",
        "    # Select the top N songs based on the minimum daily rank\n",
        "    top_songs = grouped['name'].value_counts().head(top_n).index\n",
        "\n",
        "    # Plotting the daily trend\n",
        "    fig, ax = plt.subplots(figsize=(14, 6))\n",
        "    for i,song in enumerate(top_songs):\n",
        "        song_data = grouped.loc[grouped['name'] == song]\n",
        "        ax.plot(song_data['snapshot_date'], song_data['daily_rank'],color=colors[i] ,label=song)\n",
        "\n",
        "    ax.set_title(f'Daily Rankings of Top {top_n} Songs in {region}')\n",
        "    ax.set_xlabel('Date')\n",
        "    ax.set_ylabel('Daily Rank')\n",
        "    ax.legend(loc='upper left')\n",
        "    plt.show()\n",
        "    plt.tight_layout()\n",
        "\n",
        "plot_daily_rankings('Europe',5)\n",
        "plot_daily_rankings('North America',5)\n",
        "plot_daily_rankings('LATAM',5)\n",
        "plot_daily_rankings('Rest of World',5)\n"
      ],
      "metadata": {
        "id": "-llEYrm4eI6j"
      },
      "execution_count": null,
      "outputs": []
    },
    {
      "cell_type": "markdown",
      "source": [
        "###Music preferences based on Song features: What regional differences can be observed in the audio characteristics of the most popular songs?\n",
        "\n",
        "*   How do audio features (danceability', 'energy', 'key', 'loudness' etc) of top songs compare across different regions?\n",
        "\n"
      ],
      "metadata": {
        "id": "bl6o50ASqmpC"
      }
    },
    {
      "cell_type": "code",
      "source": [
        "#Function to list top n songs within a region based on their minimum daily rankings\n",
        "def top_music(df1,region, top_n):\n",
        "    # Filter the data for the given region\n",
        "    regional_data = df1[df1['regions'] == region]\n",
        "\n",
        "    # Grouping the data by song name and snapshot_date\n",
        "    grouped = regional_data.groupby(['name', 'snapshot_date'])['daily_rank'].min().reset_index()\n",
        "\n",
        "    # Select the top N songs based on the minimum daily rank\n",
        "    top_songs = grouped['name'].value_counts().head(top_n).reset_index()\n",
        "    top_songs_list = top_songs['name'].tolist()\n",
        "    return top_songs_list\n",
        "\n",
        "#List of audio features (excluding time_signature,mode) including basic song info\n",
        "song_features=['name','artists','album_release_date','is_explicit', 'key','loudness','danceability', 'energy', 'speechiness',\n",
        "       'acousticness', 'instrumentalness', 'liveness', 'valence','tempo']\n"
      ],
      "metadata": {
        "id": "anxc7AXxHgf6"
      },
      "execution_count": null,
      "outputs": []
    },
    {
      "cell_type": "code",
      "source": [
        "#Top 5 songs in Europe alongwith their song features\n",
        "df_europe = df_2024.loc[df_2024['name'].isin(top_music(df_2024,'Europe', 10))]\n",
        "top_eu__musicfeatures= df_europe.loc[:,song_features].groupby('name').min().sort_values(by='danceability', ascending=False)\n",
        "top_eu__musicfeatures\n",
        "# top_eu__musicfeatures.boxplot(figsize=(20,10))"
      ],
      "metadata": {
        "id": "tuma5Jajdhgx"
      },
      "execution_count": null,
      "outputs": []
    },
    {
      "cell_type": "code",
      "source": [
        "df_Latin= df_2024.loc[df_2024['name'].isin(top_music(df_2024,'LATAM', 10))]\n",
        "top_LATAM_musicfeatures= df_Latin.loc[:,song_features].groupby('name').min().sort_values(by='danceability', ascending=False)\n",
        "top_LATAM_musicfeatures\n",
        "# top_LATAM_musicfeatures.boxplot(figsize=(20,10))"
      ],
      "metadata": {
        "id": "dS8uAxNrdHrA"
      },
      "execution_count": null,
      "outputs": []
    },
    {
      "cell_type": "code",
      "source": [
        "df_NorthAm= df_2024.loc[df_2024['name'].isin(top_music(df_2024,'North America', 10))]\n",
        "top_NorthAm_musicfeatures= df_NorthAm.loc[:,song_features].groupby('name').min().sort_values(by='danceability', ascending=False)\n",
        "top_NorthAm_musicfeatures\n",
        "# top_NorthAm_musicfeatures.boxplot(figsize=(20,10))"
      ],
      "metadata": {
        "id": "LaZGzEAUZG1F"
      },
      "execution_count": null,
      "outputs": []
    },
    {
      "cell_type": "code",
      "source": [
        "df_rest= df_2024.loc[df_2024['name'].isin(top_music(df_2024,'Rest of World', 10))]\n",
        "top_rest_musicfeatures= df_rest.loc[:,song_features].groupby('name').min().sort_values(by='danceability', ascending=False)\n",
        "top_rest_musicfeatures\n",
        "# top_rest_musicfeatures.boxplot(figsize=(20,10))"
      ],
      "metadata": {
        "id": "QztuZPQsmElC"
      },
      "execution_count": null,
      "outputs": []
    },
    {
      "cell_type": "code",
      "source": [
        "#Plotting mean audio features(that have values between 0-1) of top songs by region\n",
        "EU_mean_features=top_eu__musicfeatures.describe().loc['mean','danceability':'valence']\n",
        "LATAM_mean_features=top_LATAM_musicfeatures.describe().loc['mean','danceability':'valence']\n",
        "NorthAm_mean_features=top_NorthAm_musicfeatures.describe().loc['mean','danceability':'valence']\n",
        "Rest_mean_features=top_rest_musicfeatures.describe().loc['mean','danceability':'valence']\n",
        "\n",
        "features = EU_mean_features.index  # Get feature names\n",
        "regions = ['Europe', 'Latin America', 'North America','Rest of World']\n",
        "values = [EU_mean_features, LATAM_mean_features, NorthAm_mean_features,Rest_mean_features]\n",
        "\n",
        "#Bar plot for different features across different regions\n",
        "colors=['#26CC50','#7C71BB','#5E6369',\"#A9B0BA\"]\n",
        "fig, ax = plt.subplots(figsize=(18, 6))\n",
        "bar_width = 0.25\n",
        "group_padding = 0.4\n",
        "num_features = len(features)\n",
        "num_regions = len(regions)\n",
        "index = np.arange(len(features))*(num_regions * bar_width + group_padding)# to ensure spacing between the groups\n",
        "\n",
        "for i, region in enumerate(regions):\n",
        "    ax.bar(index + i * bar_width, values[i], bar_width, label=region, color=colors[i])\n",
        "\n",
        "ax.set_xticks(index + (num_regions - 1) * bar_width / 2)\n",
        "ax.grid(alpha=0.5,linestyle='--')\n",
        "ax.set_xticklabels(features, rotation=45, ha='right')\n",
        "ax.set_title('Mean Song Features of Top Songs by Region', fontsize=12)\n",
        "ax.legend(loc='upper right')\n",
        "plt.tight_layout()\n",
        "plt.show()"
      ],
      "metadata": {
        "id": "1N5J76IS_Cbc"
      },
      "execution_count": null,
      "outputs": []
    },
    {
      "cell_type": "code",
      "source": [
        "#Plotting mean tempo of top songs by region\n",
        "tempo_NorthAm=top_NorthAm_musicfeatures.describe().loc['mean','tempo']\n",
        "tempo_EU=top_eu__musicfeatures.describe().loc['mean','tempo']\n",
        "tempo_LATAM=top_LATAM_musicfeatures.describe().loc['mean','tempo']\n",
        "tempo_Rest=top_rest_musicfeatures.describe().loc['mean','tempo']\n",
        "\n",
        "tempo_values = [tempo_EU,tempo_LATAM, tempo_NorthAm,tempo_Rest]\n",
        "\n",
        "\n",
        "fig, ax = plt.subplots(figsize=(10, 6))\n",
        "\n",
        "# Bar plot\n",
        "regions = ['Europe', 'Latin America', 'North America','Rest of World']\n",
        "colors=['#26CC50','#7C71BB','#5E6369',\"#A9B0BA\"]\n",
        "bar_width = 0.5\n",
        "index = np.arange(len(regions))\n",
        "bars = ax.bar(index, tempo_values, bar_width, color=colors)\n",
        "\n",
        "\n",
        "ax.set_xlabel('Region')\n",
        "ax.set_ylabel('Mean Tempo (BPM)')\n",
        "ax.set_title('Mean Tempo of Top Songs by Region', fontsize=12)\n",
        "ax.set_xticks(index)\n",
        "ax.set_xticklabels(regions)\n",
        "plt.tight_layout()\n",
        "\n"
      ],
      "metadata": {
        "id": "-nlNqnpzXCQM"
      },
      "execution_count": null,
      "outputs": []
    },
    {
      "cell_type": "code",
      "source": [
        "#Plotting mean loudness of top songs by region\n",
        "loud_NorthAm=top_NorthAm_musicfeatures.describe().loc['mean','loudness']\n",
        "loud_EU=top_eu__musicfeatures.describe().loc['mean','loudness']\n",
        "loud_LATAM=top_LATAM_musicfeatures.describe().loc['mean','loudness']\n",
        "loud_Rest=top_rest_musicfeatures.describe().loc['mean','loudness']\n",
        "\n",
        "loud_values = [loud_EU, loud_LATAM, loud_NorthAm, loud_Rest]\n",
        "\n",
        "# Set up the figure and axis\n",
        "fig, ax = plt.subplots(figsize=(10, 6))\n",
        "\n",
        "# Bar plot\n",
        "regions = ['Europe', 'Latin America', 'North America','Rest of World']\n",
        "colors=['#26CC50','#7C71BB','#5E6369',\"#A9B0BA\"]\n",
        "bar_width = 0.5\n",
        "index = np.arange(len(regions))\n",
        "bars = ax.bar(index, loud_values, bar_width, color=colors)\n",
        "\n",
        "ax.set_xlabel('Region')\n",
        "ax.set_ylabel('Mean Loudness(-60db to 0)')\n",
        "ax.set_title('Mean Loudness of Top Songs by Region', fontsize=12)\n",
        "ax.set_xticks(index)\n",
        "ax.set_xticklabels(regions)\n",
        "plt.tight_layout()\n"
      ],
      "metadata": {
        "id": "uD7ON1aScLs1"
      },
      "execution_count": null,
      "outputs": []
    },
    {
      "cell_type": "markdown",
      "source": [
        "### Music preference based on Artists : Who are the top artists per region, and how often do their songs appear in the top daily ranks?\n",
        "\n",
        "*   Which artists have the most songs appearing in the top 10 daily ranks in each region?\n"
      ],
      "metadata": {
        "id": "MdzfAq20fqTb"
      }
    },
    {
      "cell_type": "code",
      "source": [
        "# Top_Region_Artists are artists whose songs appeared multiple times in the top 50 daily ranks for the specific region, considering only artists whose songs have occupied one of the top 10 positions in the daily ranks consistently.\n",
        "top_eu_artists= df_2024.artists.loc[(df_2024.regions=='Europe')& (df_2024.daily_rank<=10)].value_counts().head(5)\n",
        "top_latam_artists= df_2024.artists.loc[(df_2024.regions=='LATAM')& (df_2024.daily_rank<=10)].value_counts().head(5)\n",
        "top_NorthAm_artists= df_2024.artists.loc[(df_2024.regions=='North America')& (df_2024.daily_rank<=10)].value_counts().head(5)\n",
        "top_rest_artists= df_2024.artists.loc[(df_2024.regions=='Rest of World')& (df_2024.daily_rank<=10)].value_counts().head(5)\n",
        "\n",
        "#To sort the appearance of bars in descending order\n",
        "top_eu_artists=top_eu_artists.iloc[::-1]\n",
        "top_latam_artists=top_latam_artists.iloc[::-1]\n",
        "top_NorthAm_artists=top_NorthAm_artists.iloc[::-1]\n",
        "top_rest_artists=top_rest_artists.iloc[::-1]\n",
        "\n",
        "#Plotting horizontal bar charts for top 5 artists across regions\n",
        "fig, ((ax1, ax2), (ax3, ax4)) = plt.subplots(nrows=2,ncols=2,figsize=(14, 6))\n",
        "plt.suptitle('Top 5 Artists across Regions', fontsize=20)\n",
        "ax1.barh(top_eu_artists.index,top_eu_artists.values,color=\"#26CC50\")\n",
        "ax1.set_title('Europe')\n",
        "ax2.barh(top_latam_artists.index,top_latam_artists.values,color=\"#7C71BB\")\n",
        "ax2.set_title('LATAM')\n",
        "ax3.barh(top_NorthAm_artists.index,top_NorthAm_artists.values,color=\"#5E6369\")\n",
        "ax3.set_title('North America')\n",
        "ax4.barh(top_rest_artists.index,top_rest_artists.values,color=\"#A9B0BA\")\n",
        "ax4.set_title('Rest of World')\n",
        "plt.tight_layout()\n"
      ],
      "metadata": {
        "id": "v-KrRtkF1DYG"
      },
      "execution_count": null,
      "outputs": []
    },
    {
      "cell_type": "code",
      "source": [
        "#To see the songs that made the artist top the region\n",
        "\n",
        "top_eu= df_2024.loc[(df_2024.regions=='Europe')& (df_2024.daily_rank<=10)]\n",
        "top_eu_grouped=top_eu.groupby(['artists','name']).size().reset_index(name='counts')\n",
        "top_eu_grouped.sort_values(by= 'counts',ascending=False)\n",
        "\n",
        "# top_latam= df_2024.loc[(df_2024.regions=='LATAM')& (df_2024.daily_rank<=10)]\n",
        "# top_latam_grouped= top_latam.groupby(['artists','name']).size().reset_index(name='counts')\n",
        "# top_latam_grouped.sort_values(by= 'counts',ascending=False)\n",
        "\n",
        "# top_NorthAm= df_2024.loc[(df_2024.regions=='North America')& (df_2024.daily_rank<=20)]\n",
        "# top_NorthAm_grouped=top_NorthAm.groupby(['artists','name']).size().reset_index(name='counts')\n",
        "# top_NorthAm_grouped.sort_values(by= 'counts',ascending=False)\n",
        "\n",
        "# top_rest= df_2024.loc[(df_2024.regions=='Rest of World')& (df_2024.daily_rank<=10)]\n",
        "# top_rest_grouped=top_rest.groupby(['artists','name']).size().reset_index(name='counts')\n",
        "# top_rest_grouped.sort_values(by= 'counts',ascending=False)\n",
        "\n"
      ],
      "metadata": {
        "id": "oemqFWzEvkjo"
      },
      "execution_count": null,
      "outputs": []
    },
    {
      "cell_type": "markdown",
      "source": [
        "## RESULTS"
      ],
      "metadata": {
        "id": "LnauzvPCggYw"
      }
    },
    {
      "cell_type": "markdown",
      "source": [
        "Analysis conducted to determine **\"What were the music preferences across different regions (North America, Latin America, Europe, and the Rest of the World) on Spotify and how did they vary over the period from December 2023 to June 2024?\"** resulted in the following findings:\n",
        "\n",
        "\n",
        "- Daily rankings gives a ***better measurement of trend of music preference*** globally rather than popularity score as songs with 0 popularity score can be ranking 1.\n",
        "- Daily ranking trends of top 5 songs in different regions show the following patterns:\n",
        "  - In Europe, top songs that ranked high(1-10) in the winter months moved further down the ranking list after April.\n",
        "  - In North American, top songs ranked low(>10) in December and between Jan and mid April held a consistent high rankings.\n",
        "  - In Latin America and Rest of World regions,the rankings exhibit significant fluctuations.\n",
        "\n",
        "- Music preferences according to audio features of most popular songs in each region:\n",
        "  - **Danceable songs** are preferred highly in all regions especially in Europe and Latin America.\n",
        "  - The **energy** levels are fairly similar across all regions, with Europe and Latin America showing slightly higher values.\n",
        "  - Europe shows a slightly higher value of **speechiness** in comparison to other regions, indicating a slight preference for tracks with more spoken words.\n",
        "  - Europe shows a slightly higher preference for **acoustic and instrumental** tracks.\n",
        "  - North America and the Rest of the World show slightly higher values, indicating a minor preference for **live** performance elements in music.\n",
        "  - Mean **valence** is highest in Latin America followed by rest of world and Europe, which indicates preference of positive or euphoric songs in these regions.\n",
        "  - Latin America and North America prefer **faster-paced** music, while Europe favors slower-paced tracks. The Rest of the World falls in between but leans towards faster tempos.\n",
        "  - Latin America prefers the **loudest** music, followed by North America and then Europe. The Rest of the World prefers the quietest tracks.\n",
        "\n",
        "- Top artists in each region whose songs ranked consistently less than 10 over the last 6 months:\n",
        "  - Benson Boone(Europe, 1847 times)\n",
        "  - Xavi(LATAM, 2458)\n",
        "  - Noah Kahan(North America, 231)\n",
        "  - Jimin(Rest of World, 1227)\n",
        "\n",
        "\n",
        "\n",
        "\n"
      ],
      "metadata": {
        "id": "EBEUfCr-NBDL"
      }
    },
    {
      "cell_type": "markdown",
      "source": [
        "## NEXT ACTIONS\n",
        "\n"
      ],
      "metadata": {
        "id": "bL3xNFVltT5x"
      }
    },
    {
      "cell_type": "markdown",
      "source": [
        "Based on above finding following actions can taken by :-\n",
        "\n",
        "1.   Artists and Record Labels:\n",
        "\n",
        "  - Tailored Releases: Customize music releases to match regional preferences\n",
        "      - Latin America: Focus on energetic, upbeat tracks.\n",
        "      - Europe: Emphasize danceable tracks with acoustic and instrumental elements.\n",
        "      - North America: Balance energetic tracks with live performance appeal.\n",
        "  - Timing of Releases: Plan major releases strategically\n",
        "      - Europe: Before April to maintain high rankings.\n",
        "      - North America: Between January and mid-April for stability.\n",
        "  - Targeted Collaborations: Collaborate with local top artists to enhance market penetration.\n",
        "\n",
        "\n",
        "\n",
        "2.   Spotify:\n",
        "  - Algorithm Adjustments: Refine recommendation algorithms to reflect regional music tastes, focusing on tempo, loudness, and danceability.\n",
        "\n",
        "  - Regional Playlists: Curate playlists that resonate with specific regional preferences, enhancing user engagement.\n",
        "\n",
        "  - Seasonal Campaigns:Develop seasonal marketing campaigns aligned with regional music trends to optimize user interaction and satisfaction.\n",
        "\n",
        "  - Conduct deeper analysis on why older songs are trending to improve recommendation accuracy and user engagement."
      ],
      "metadata": {
        "id": "-YJoh8ViuiwP"
      }
    },
    {
      "cell_type": "markdown",
      "source": [
        "## ANNEX:*Dataset Columns and Parameters*"
      ],
      "metadata": {
        "id": "ps6CqN4R2i8f"
      }
    },
    {
      "cell_type": "markdown",
      "source": [
        "Detailed documentation in [Spotify for developers](https://developer.spotify.com/documentation/web-api/reference/get-audio-features)\n",
        "\n",
        "**Track Attributes**\n",
        "\n",
        "- **name**: The name of the track or song.\n",
        "- **artist**: The name of the artist who performed the song.\n",
        "- **album**: The name of the album the song belongs to.\n",
        "- **duration_ms**: The duration of the song in milliseconds.\n",
        "- **popularity**: A value between 0 and 100 that represents the track's popularity globally on Spotify, with higher values indicating greater popularity.\n",
        "\n",
        "**Audio** **Features**\n",
        "\n",
        "- **danceability**: A value between 0 and 1 that describes how suitable the track is for dancing, based on a combination of musical elements like tempo, rhythm stability, and beat strength.\n",
        "- **energy**: A measure between 0 and 1 that represents the perceived intensity and activity of the track, with higher values indicating more energetic tracks.\n",
        "- **key**: The estimated key that the track is in (e.g., 0 = C, 1 = C♯/D♭, 2 = D, etc.).\n",
        "- **loudness**: The overall loudness of the track in decibels (dB), with higher values indicating louder tracks.\n",
        "- **mode**: Indicates the modality (major or minor) of the track, with 0 = minor and 1 = major.\n",
        "- **speechiness**: A value between 0 and 1 that detects the presence of spoken words in the track, with higher values indicating more spoken words.\n",
        "- **acousticness**: A confidence measure between 0 and 1 of whether the track is acoustic, with higher values indicating a more acoustic sound.\n",
        "- **instrumentalness**: A value between 0 and 1 that represents the likelihood that the track contains no vocals, with higher values indicating an instrumental track.\n",
        "- **liveness**: A measure between 0 and 1 that detects the presence of an audience in the recording, with higher values indicating a live performance.\n",
        "- **valence**: A measure between 0 and 1 that describes the musical positiveness conveyed by the track, with higher values indicating more positive or euphoric emotions.\n",
        "- **tempo**: The overall estimated tempo of the track in beats per minute (BPM).\n",
        "- **time_signature** : The time signature (meter) is a notational convention to specify how many beats are in each bar (or measure). The time signature ranges from 3 to 7 indicating time signatures of \"3/4\", to \"7/4\"."
      ],
      "metadata": {
        "id": "qk4-xndaUyKG"
      }
    }
  ]
}